{
 "cells": [
  {
   "cell_type": "code",
   "execution_count": 1,
   "metadata": {},
   "outputs": [],
   "source": [
    "from sklearn import metricsrics"
   ]
  },
  {
   "cell_type": "code",
   "execution_count": 2,
   "metadata": {},
   "outputs": [],
   "source": [
    "C = \"Cat\"\n",
    "D = \"Dog\"\n",
    "F = \"Fox\""
   ]
  },
  {
   "cell_type": "code",
   "execution_count": 4,
   "metadata": {},
   "outputs": [
    {
     "name": "stdout",
     "output_type": "stream",
     "text": [
      "[[4 1 1]\n",
      " [3 6 0]\n",
      " [6 2 2]]\n",
      "              precision    recall  f1-score   support\n",
      "\n",
      "         Cat       0.31      0.67      0.42         6\n",
      "         Dog       0.67      0.67      0.67         9\n",
      "         Fox       0.67      0.20      0.31        10\n",
      "\n",
      "    accuracy                           0.48        25\n",
      "   macro avg       0.55      0.51      0.47        25\n",
      "weighted avg       0.58      0.48      0.46        25\n",
      "\n"
     ]
    }
   ],
   "source": [
    "# ture value\n",
    "y_true  = [C,C,C,C,C,C,F,F,F,F,F,F,F,F,F,F,D,D,D,D,D,D,D,D,D]\n",
    "#predicted value \n",
    "y_pred = [C,C,C,C,D,F,C,C,C,C,C,C,D,D,F,F,C,C,C,D,D,D,D,D,D]\n",
    "\n",
    "# print the confusion matrix\n",
    "print(metrics.confusion_matrix(y_true,y_pred))\n",
    "\n",
    "#print recall and presion \n",
    "print(metrics.classification_report(y_true,y_pred))"
   ]
  },
  {
   "cell_type": "code",
   "execution_count": null,
   "metadata": {},
   "outputs": [],
   "source": []
  }
 ],
 "metadata": {
  "kernelspec": {
   "display_name": "Python 3",
   "language": "python",
   "name": "python3"
  },
  "language_info": {
   "codemirror_mode": {
    "name": "ipython",
    "version": 3
   },
   "file_extension": ".py",
   "mimetype": "text/x-python",
   "name": "python",
   "nbconvert_exporter": "python",
   "pygments_lexer": "ipython3",
   "version": "3.8.5"
  }
 },
 "nbformat": 4,
 "nbformat_minor": 4
}
